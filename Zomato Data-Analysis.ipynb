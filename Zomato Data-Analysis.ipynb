{
 "cells": [
  {
   "cell_type": "code",
   "execution_count": 1,
   "id": "6c63c5b8",
   "metadata": {},
   "outputs": [],
   "source": [
    "import pandas as pd"
   ]
  },
  {
   "cell_type": "code",
   "execution_count": 2,
   "id": "4720538a",
   "metadata": {},
   "outputs": [],
   "source": [
    "country_code=pd.read_excel('Country-Code.xlsx')\n",
    "zomato_dataset=pd.read_csv('Zomato_Dataset.csv')"
   ]
  },
  {
   "cell_type": "markdown",
   "id": "616edbce",
   "metadata": {},
   "source": [
    "# Problem statement:\n",
    "\n"
   ]
  },
  {
   "cell_type": "markdown",
   "id": "87640207",
   "metadata": {},
   "source": [
    "Analyzing the best restaurants of the major cities"
   ]
  },
  {
   "cell_type": "code",
   "execution_count": 3,
   "id": "741233c2",
   "metadata": {},
   "outputs": [
    {
     "data": {
      "text/plain": [
       "Index(['Country Code', 'Country'], dtype='object')"
      ]
     },
     "execution_count": 3,
     "metadata": {},
     "output_type": "execute_result"
    }
   ],
   "source": [
    "country_code.columns"
   ]
  },
  {
   "cell_type": "code",
   "execution_count": 4,
   "id": "820ad7f6",
   "metadata": {},
   "outputs": [
    {
     "data": {
      "text/plain": [
       "Index(['RestaurantID', 'RestaurantName', 'CountryCode', 'City', 'Address',\n",
       "       'Locality', 'LocalityVerbose', 'Cuisines', 'Currency',\n",
       "       'Has_Table_booking', 'Has_Online_delivery', 'Is_delivering_now',\n",
       "       'Switch_to_order_menu', 'Price_range', 'Votes', 'Average_Cost_for_two',\n",
       "       'Rating'],\n",
       "      dtype='object')"
      ]
     },
     "execution_count": 4,
     "metadata": {},
     "output_type": "execute_result"
    }
   ],
   "source": [
    "zomato_dataset.columns"
   ]
  },
  {
   "cell_type": "code",
   "execution_count": 5,
   "id": "07915ae3",
   "metadata": {},
   "outputs": [
    {
     "name": "stdout",
     "output_type": "stream",
     "text": [
      "RestaurantID            9551\n",
      "RestaurantName          7446\n",
      "CountryCode               15\n",
      "City                     141\n",
      "Address                 8918\n",
      "Locality                1208\n",
      "LocalityVerbose         1265\n",
      "Cuisines                1825\n",
      "Currency                  12\n",
      "Has_Table_booking          2\n",
      "Has_Online_delivery        2\n",
      "Is_delivering_now          2\n",
      "Switch_to_order_menu       1\n",
      "Price_range                4\n",
      "Votes                   1012\n",
      "Average_Cost_for_two     140\n",
      "Rating                    33\n",
      "dtype: int64\n"
     ]
    },
    {
     "data": {
      "text/plain": [
       "Country Code    15\n",
       "Country         15\n",
       "dtype: int64"
      ]
     },
     "execution_count": 5,
     "metadata": {},
     "output_type": "execute_result"
    }
   ],
   "source": [
    "print(zomato_dataset.nunique())\n",
    "country_code.nunique()"
   ]
  },
  {
   "cell_type": "code",
   "execution_count": 6,
   "id": "8302e993",
   "metadata": {},
   "outputs": [
    {
     "name": "stdout",
     "output_type": "stream",
     "text": [
      "(9551, 17)\n"
     ]
    },
    {
     "data": {
      "text/plain": [
       "(15, 2)"
      ]
     },
     "execution_count": 6,
     "metadata": {},
     "output_type": "execute_result"
    }
   ],
   "source": [
    "print(zomato_dataset.shape)\n",
    "country_code.shape"
   ]
  },
  {
   "cell_type": "code",
   "execution_count": 7,
   "id": "7afae707",
   "metadata": {},
   "outputs": [
    {
     "data": {
      "text/html": [
       "<div>\n",
       "<style scoped>\n",
       "    .dataframe tbody tr th:only-of-type {\n",
       "        vertical-align: middle;\n",
       "    }\n",
       "\n",
       "    .dataframe tbody tr th {\n",
       "        vertical-align: top;\n",
       "    }\n",
       "\n",
       "    .dataframe thead th {\n",
       "        text-align: right;\n",
       "    }\n",
       "</style>\n",
       "<table border=\"1\" class=\"dataframe\">\n",
       "  <thead>\n",
       "    <tr style=\"text-align: right;\">\n",
       "      <th></th>\n",
       "      <th>RestaurantID</th>\n",
       "      <th>RestaurantName</th>\n",
       "      <th>CountryCode</th>\n",
       "      <th>City</th>\n",
       "      <th>Address</th>\n",
       "      <th>Locality</th>\n",
       "      <th>LocalityVerbose</th>\n",
       "      <th>Cuisines</th>\n",
       "      <th>Currency</th>\n",
       "      <th>Has_Table_booking</th>\n",
       "      <th>Has_Online_delivery</th>\n",
       "      <th>Is_delivering_now</th>\n",
       "      <th>Switch_to_order_menu</th>\n",
       "      <th>Price_range</th>\n",
       "      <th>Votes</th>\n",
       "      <th>Average_Cost_for_two</th>\n",
       "      <th>Rating</th>\n",
       "    </tr>\n",
       "  </thead>\n",
       "  <tbody>\n",
       "    <tr>\n",
       "      <th>0</th>\n",
       "      <td>6317637</td>\n",
       "      <td>Le Petit Souffle</td>\n",
       "      <td>162</td>\n",
       "      <td>Makati City</td>\n",
       "      <td>Third Floor| Century City Mall| Kalayaan Avenu...</td>\n",
       "      <td>Century City Mall| Poblacion| Makati City</td>\n",
       "      <td>Century City Mall| Poblacion| Makati City| Mak...</td>\n",
       "      <td>French| Japanese| Desserts</td>\n",
       "      <td>Botswana Pula(P)</td>\n",
       "      <td>Yes</td>\n",
       "      <td>No</td>\n",
       "      <td>No</td>\n",
       "      <td>No</td>\n",
       "      <td>3</td>\n",
       "      <td>314</td>\n",
       "      <td>1100</td>\n",
       "      <td>4.8</td>\n",
       "    </tr>\n",
       "    <tr>\n",
       "      <th>1</th>\n",
       "      <td>6304287</td>\n",
       "      <td>Izakaya Kikufuji</td>\n",
       "      <td>162</td>\n",
       "      <td>Makati City</td>\n",
       "      <td>Little Tokyo| 2277 Chino Roces Avenue| Legaspi...</td>\n",
       "      <td>Little Tokyo| Legaspi Village| Makati City</td>\n",
       "      <td>Little Tokyo| Legaspi Village| Makati City| Ma...</td>\n",
       "      <td>Japanese</td>\n",
       "      <td>Botswana Pula(P)</td>\n",
       "      <td>Yes</td>\n",
       "      <td>No</td>\n",
       "      <td>No</td>\n",
       "      <td>No</td>\n",
       "      <td>3</td>\n",
       "      <td>591</td>\n",
       "      <td>1200</td>\n",
       "      <td>4.5</td>\n",
       "    </tr>\n",
       "    <tr>\n",
       "      <th>2</th>\n",
       "      <td>6300002</td>\n",
       "      <td>Heat - Edsa Shangri-La</td>\n",
       "      <td>162</td>\n",
       "      <td>Mandaluyong City</td>\n",
       "      <td>Edsa Shangri-La| 1 Garden Way| Ortigas| Mandal...</td>\n",
       "      <td>Edsa Shangri-La| Ortigas| Mandaluyong City</td>\n",
       "      <td>Edsa Shangri-La| Ortigas| Mandaluyong City| Ma...</td>\n",
       "      <td>Seafood| Asian| Filipino| Indian</td>\n",
       "      <td>Botswana Pula(P)</td>\n",
       "      <td>Yes</td>\n",
       "      <td>No</td>\n",
       "      <td>No</td>\n",
       "      <td>No</td>\n",
       "      <td>4</td>\n",
       "      <td>270</td>\n",
       "      <td>4000</td>\n",
       "      <td>4.4</td>\n",
       "    </tr>\n",
       "    <tr>\n",
       "      <th>3</th>\n",
       "      <td>6318506</td>\n",
       "      <td>Ooma</td>\n",
       "      <td>162</td>\n",
       "      <td>Mandaluyong City</td>\n",
       "      <td>Third Floor| Mega Fashion Hall| SM Megamall| O...</td>\n",
       "      <td>SM Megamall| Ortigas| Mandaluyong City</td>\n",
       "      <td>SM Megamall| Ortigas| Mandaluyong City| Mandal...</td>\n",
       "      <td>Japanese| Sushi</td>\n",
       "      <td>Botswana Pula(P)</td>\n",
       "      <td>No</td>\n",
       "      <td>No</td>\n",
       "      <td>No</td>\n",
       "      <td>No</td>\n",
       "      <td>4</td>\n",
       "      <td>365</td>\n",
       "      <td>1500</td>\n",
       "      <td>4.9</td>\n",
       "    </tr>\n",
       "    <tr>\n",
       "      <th>4</th>\n",
       "      <td>6314302</td>\n",
       "      <td>Sambo Kojin</td>\n",
       "      <td>162</td>\n",
       "      <td>Mandaluyong City</td>\n",
       "      <td>Third Floor| Mega Atrium| SM Megamall| Ortigas...</td>\n",
       "      <td>SM Megamall| Ortigas| Mandaluyong City</td>\n",
       "      <td>SM Megamall| Ortigas| Mandaluyong City| Mandal...</td>\n",
       "      <td>Japanese| Korean</td>\n",
       "      <td>Botswana Pula(P)</td>\n",
       "      <td>Yes</td>\n",
       "      <td>No</td>\n",
       "      <td>No</td>\n",
       "      <td>No</td>\n",
       "      <td>4</td>\n",
       "      <td>229</td>\n",
       "      <td>1500</td>\n",
       "      <td>4.8</td>\n",
       "    </tr>\n",
       "  </tbody>\n",
       "</table>\n",
       "</div>"
      ],
      "text/plain": [
       "   RestaurantID          RestaurantName  CountryCode              City  \\\n",
       "0       6317637        Le Petit Souffle          162       Makati City   \n",
       "1       6304287        Izakaya Kikufuji          162       Makati City   \n",
       "2       6300002  Heat - Edsa Shangri-La          162  Mandaluyong City   \n",
       "3       6318506                    Ooma          162  Mandaluyong City   \n",
       "4       6314302             Sambo Kojin          162  Mandaluyong City   \n",
       "\n",
       "                                             Address  \\\n",
       "0  Third Floor| Century City Mall| Kalayaan Avenu...   \n",
       "1  Little Tokyo| 2277 Chino Roces Avenue| Legaspi...   \n",
       "2  Edsa Shangri-La| 1 Garden Way| Ortigas| Mandal...   \n",
       "3  Third Floor| Mega Fashion Hall| SM Megamall| O...   \n",
       "4  Third Floor| Mega Atrium| SM Megamall| Ortigas...   \n",
       "\n",
       "                                     Locality  \\\n",
       "0   Century City Mall| Poblacion| Makati City   \n",
       "1  Little Tokyo| Legaspi Village| Makati City   \n",
       "2  Edsa Shangri-La| Ortigas| Mandaluyong City   \n",
       "3      SM Megamall| Ortigas| Mandaluyong City   \n",
       "4      SM Megamall| Ortigas| Mandaluyong City   \n",
       "\n",
       "                                     LocalityVerbose  \\\n",
       "0  Century City Mall| Poblacion| Makati City| Mak...   \n",
       "1  Little Tokyo| Legaspi Village| Makati City| Ma...   \n",
       "2  Edsa Shangri-La| Ortigas| Mandaluyong City| Ma...   \n",
       "3  SM Megamall| Ortigas| Mandaluyong City| Mandal...   \n",
       "4  SM Megamall| Ortigas| Mandaluyong City| Mandal...   \n",
       "\n",
       "                           Cuisines          Currency Has_Table_booking  \\\n",
       "0        French| Japanese| Desserts  Botswana Pula(P)               Yes   \n",
       "1                          Japanese  Botswana Pula(P)               Yes   \n",
       "2  Seafood| Asian| Filipino| Indian  Botswana Pula(P)               Yes   \n",
       "3                   Japanese| Sushi  Botswana Pula(P)                No   \n",
       "4                  Japanese| Korean  Botswana Pula(P)               Yes   \n",
       "\n",
       "  Has_Online_delivery Is_delivering_now Switch_to_order_menu  Price_range  \\\n",
       "0                  No                No                   No            3   \n",
       "1                  No                No                   No            3   \n",
       "2                  No                No                   No            4   \n",
       "3                  No                No                   No            4   \n",
       "4                  No                No                   No            4   \n",
       "\n",
       "   Votes  Average_Cost_for_two  Rating  \n",
       "0    314                  1100     4.8  \n",
       "1    591                  1200     4.5  \n",
       "2    270                  4000     4.4  \n",
       "3    365                  1500     4.9  \n",
       "4    229                  1500     4.8  "
      ]
     },
     "execution_count": 7,
     "metadata": {},
     "output_type": "execute_result"
    }
   ],
   "source": [
    "zomato_dataset.head()"
   ]
  },
  {
   "cell_type": "code",
   "execution_count": 8,
   "id": "fe1739c7",
   "metadata": {},
   "outputs": [
    {
     "data": {
      "text/html": [
       "<div>\n",
       "<style scoped>\n",
       "    .dataframe tbody tr th:only-of-type {\n",
       "        vertical-align: middle;\n",
       "    }\n",
       "\n",
       "    .dataframe tbody tr th {\n",
       "        vertical-align: top;\n",
       "    }\n",
       "\n",
       "    .dataframe thead th {\n",
       "        text-align: right;\n",
       "    }\n",
       "</style>\n",
       "<table border=\"1\" class=\"dataframe\">\n",
       "  <thead>\n",
       "    <tr style=\"text-align: right;\">\n",
       "      <th></th>\n",
       "      <th>Country Code</th>\n",
       "      <th>Country</th>\n",
       "    </tr>\n",
       "  </thead>\n",
       "  <tbody>\n",
       "    <tr>\n",
       "      <th>0</th>\n",
       "      <td>1</td>\n",
       "      <td>India</td>\n",
       "    </tr>\n",
       "    <tr>\n",
       "      <th>1</th>\n",
       "      <td>14</td>\n",
       "      <td>Australia</td>\n",
       "    </tr>\n",
       "    <tr>\n",
       "      <th>2</th>\n",
       "      <td>30</td>\n",
       "      <td>Brazil</td>\n",
       "    </tr>\n",
       "    <tr>\n",
       "      <th>3</th>\n",
       "      <td>37</td>\n",
       "      <td>Canada</td>\n",
       "    </tr>\n",
       "    <tr>\n",
       "      <th>4</th>\n",
       "      <td>94</td>\n",
       "      <td>Indonesia</td>\n",
       "    </tr>\n",
       "  </tbody>\n",
       "</table>\n",
       "</div>"
      ],
      "text/plain": [
       "   Country Code    Country\n",
       "0             1      India\n",
       "1            14  Australia\n",
       "2            30     Brazil\n",
       "3            37     Canada\n",
       "4            94  Indonesia"
      ]
     },
     "execution_count": 8,
     "metadata": {},
     "output_type": "execute_result"
    }
   ],
   "source": [
    "country_code.head()"
   ]
  },
  {
   "cell_type": "code",
   "execution_count": 9,
   "id": "dab41ece",
   "metadata": {},
   "outputs": [],
   "source": [
    "country_code1=country_code.rename(columns={\"Country Code\":\"CountryCode\"})"
   ]
  },
  {
   "cell_type": "code",
   "execution_count": 10,
   "id": "a3de6b76",
   "metadata": {},
   "outputs": [
    {
     "data": {
      "text/html": [
       "<div>\n",
       "<style scoped>\n",
       "    .dataframe tbody tr th:only-of-type {\n",
       "        vertical-align: middle;\n",
       "    }\n",
       "\n",
       "    .dataframe tbody tr th {\n",
       "        vertical-align: top;\n",
       "    }\n",
       "\n",
       "    .dataframe thead th {\n",
       "        text-align: right;\n",
       "    }\n",
       "</style>\n",
       "<table border=\"1\" class=\"dataframe\">\n",
       "  <thead>\n",
       "    <tr style=\"text-align: right;\">\n",
       "      <th></th>\n",
       "      <th>CountryCode</th>\n",
       "      <th>Country</th>\n",
       "    </tr>\n",
       "  </thead>\n",
       "  <tbody>\n",
       "    <tr>\n",
       "      <th>0</th>\n",
       "      <td>1</td>\n",
       "      <td>India</td>\n",
       "    </tr>\n",
       "    <tr>\n",
       "      <th>1</th>\n",
       "      <td>14</td>\n",
       "      <td>Australia</td>\n",
       "    </tr>\n",
       "    <tr>\n",
       "      <th>2</th>\n",
       "      <td>30</td>\n",
       "      <td>Brazil</td>\n",
       "    </tr>\n",
       "    <tr>\n",
       "      <th>3</th>\n",
       "      <td>37</td>\n",
       "      <td>Canada</td>\n",
       "    </tr>\n",
       "    <tr>\n",
       "      <th>4</th>\n",
       "      <td>94</td>\n",
       "      <td>Indonesia</td>\n",
       "    </tr>\n",
       "    <tr>\n",
       "      <th>5</th>\n",
       "      <td>148</td>\n",
       "      <td>New Zealand</td>\n",
       "    </tr>\n",
       "    <tr>\n",
       "      <th>6</th>\n",
       "      <td>162</td>\n",
       "      <td>Phillipines</td>\n",
       "    </tr>\n",
       "    <tr>\n",
       "      <th>7</th>\n",
       "      <td>166</td>\n",
       "      <td>Qatar</td>\n",
       "    </tr>\n",
       "    <tr>\n",
       "      <th>8</th>\n",
       "      <td>184</td>\n",
       "      <td>Singapore</td>\n",
       "    </tr>\n",
       "    <tr>\n",
       "      <th>9</th>\n",
       "      <td>189</td>\n",
       "      <td>South Africa</td>\n",
       "    </tr>\n",
       "    <tr>\n",
       "      <th>10</th>\n",
       "      <td>191</td>\n",
       "      <td>Sri Lanka</td>\n",
       "    </tr>\n",
       "    <tr>\n",
       "      <th>11</th>\n",
       "      <td>208</td>\n",
       "      <td>Turkey</td>\n",
       "    </tr>\n",
       "    <tr>\n",
       "      <th>12</th>\n",
       "      <td>214</td>\n",
       "      <td>UAE</td>\n",
       "    </tr>\n",
       "    <tr>\n",
       "      <th>13</th>\n",
       "      <td>215</td>\n",
       "      <td>United Kingdom</td>\n",
       "    </tr>\n",
       "    <tr>\n",
       "      <th>14</th>\n",
       "      <td>216</td>\n",
       "      <td>United States</td>\n",
       "    </tr>\n",
       "  </tbody>\n",
       "</table>\n",
       "</div>"
      ],
      "text/plain": [
       "    CountryCode         Country\n",
       "0             1           India\n",
       "1            14       Australia\n",
       "2            30          Brazil\n",
       "3            37          Canada\n",
       "4            94       Indonesia\n",
       "5           148     New Zealand\n",
       "6           162     Phillipines\n",
       "7           166           Qatar\n",
       "8           184       Singapore\n",
       "9           189    South Africa\n",
       "10          191       Sri Lanka\n",
       "11          208          Turkey\n",
       "12          214             UAE\n",
       "13          215  United Kingdom\n",
       "14          216   United States"
      ]
     },
     "execution_count": 10,
     "metadata": {},
     "output_type": "execute_result"
    }
   ],
   "source": [
    "country_code1"
   ]
  },
  {
   "cell_type": "markdown",
   "id": "e6ea6cbc",
   "metadata": {},
   "source": [
    "# Find Missing Values"
   ]
  },
  {
   "cell_type": "code",
   "execution_count": 11,
   "id": "9843acdf",
   "metadata": {},
   "outputs": [
    {
     "data": {
      "text/plain": [
       "RestaurantID            0\n",
       "RestaurantName          0\n",
       "CountryCode             0\n",
       "City                    0\n",
       "Address                 0\n",
       "Locality                0\n",
       "LocalityVerbose         0\n",
       "Cuisines                9\n",
       "Currency                0\n",
       "Has_Table_booking       0\n",
       "Has_Online_delivery     0\n",
       "Is_delivering_now       0\n",
       "Switch_to_order_menu    0\n",
       "Price_range             0\n",
       "Votes                   0\n",
       "Average_Cost_for_two    0\n",
       "Rating                  0\n",
       "dtype: int64"
      ]
     },
     "execution_count": 11,
     "metadata": {},
     "output_type": "execute_result"
    }
   ],
   "source": [
    "zomato_dataset.isnull().sum()"
   ]
  },
  {
   "cell_type": "code",
   "execution_count": 12,
   "id": "b2811db4",
   "metadata": {},
   "outputs": [],
   "source": [
    "zomato_dataset['Cuisines'].fillna('North Indian',inplace=True)"
   ]
  },
  {
   "cell_type": "code",
   "execution_count": 13,
   "id": "8c28b8e6",
   "metadata": {},
   "outputs": [
    {
     "data": {
      "text/plain": [
       "RestaurantID            0\n",
       "RestaurantName          0\n",
       "CountryCode             0\n",
       "City                    0\n",
       "Address                 0\n",
       "Locality                0\n",
       "LocalityVerbose         0\n",
       "Cuisines                0\n",
       "Currency                0\n",
       "Has_Table_booking       0\n",
       "Has_Online_delivery     0\n",
       "Is_delivering_now       0\n",
       "Switch_to_order_menu    0\n",
       "Price_range             0\n",
       "Votes                   0\n",
       "Average_Cost_for_two    0\n",
       "Rating                  0\n",
       "dtype: int64"
      ]
     },
     "execution_count": 13,
     "metadata": {},
     "output_type": "execute_result"
    }
   ],
   "source": [
    "zomato_dataset.isnull().sum()"
   ]
  },
  {
   "cell_type": "code",
   "execution_count": 14,
   "id": "36b492b6",
   "metadata": {},
   "outputs": [
    {
     "name": "stdout",
     "output_type": "stream",
     "text": [
      "<class 'pandas.core.frame.DataFrame'>\n",
      "RangeIndex: 9551 entries, 0 to 9550\n",
      "Data columns (total 17 columns):\n",
      " #   Column                Non-Null Count  Dtype  \n",
      "---  ------                --------------  -----  \n",
      " 0   RestaurantID          9551 non-null   int64  \n",
      " 1   RestaurantName        9551 non-null   object \n",
      " 2   CountryCode           9551 non-null   int64  \n",
      " 3   City                  9551 non-null   object \n",
      " 4   Address               9551 non-null   object \n",
      " 5   Locality              9551 non-null   object \n",
      " 6   LocalityVerbose       9551 non-null   object \n",
      " 7   Cuisines              9551 non-null   object \n",
      " 8   Currency              9551 non-null   object \n",
      " 9   Has_Table_booking     9551 non-null   object \n",
      " 10  Has_Online_delivery   9551 non-null   object \n",
      " 11  Is_delivering_now     9551 non-null   object \n",
      " 12  Switch_to_order_menu  9551 non-null   object \n",
      " 13  Price_range           9551 non-null   int64  \n",
      " 14  Votes                 9551 non-null   int64  \n",
      " 15  Average_Cost_for_two  9551 non-null   int64  \n",
      " 16  Rating                9551 non-null   float64\n",
      "dtypes: float64(1), int64(5), object(11)\n",
      "memory usage: 1.2+ MB\n"
     ]
    }
   ],
   "source": [
    "zomato_dataset.info()"
   ]
  },
  {
   "cell_type": "code",
   "execution_count": 15,
   "id": "b707b695",
   "metadata": {
    "scrolled": true
   },
   "outputs": [
    {
     "data": {
      "text/html": [
       "<div>\n",
       "<style scoped>\n",
       "    .dataframe tbody tr th:only-of-type {\n",
       "        vertical-align: middle;\n",
       "    }\n",
       "\n",
       "    .dataframe tbody tr th {\n",
       "        vertical-align: top;\n",
       "    }\n",
       "\n",
       "    .dataframe thead th {\n",
       "        text-align: right;\n",
       "    }\n",
       "</style>\n",
       "<table border=\"1\" class=\"dataframe\">\n",
       "  <thead>\n",
       "    <tr style=\"text-align: right;\">\n",
       "      <th></th>\n",
       "      <th>RestaurantID</th>\n",
       "      <th>CountryCode</th>\n",
       "      <th>Price_range</th>\n",
       "      <th>Votes</th>\n",
       "      <th>Average_Cost_for_two</th>\n",
       "      <th>Rating</th>\n",
       "    </tr>\n",
       "  </thead>\n",
       "  <tbody>\n",
       "    <tr>\n",
       "      <th>count</th>\n",
       "      <td>9.551000e+03</td>\n",
       "      <td>9551.000000</td>\n",
       "      <td>9551.000000</td>\n",
       "      <td>9551.000000</td>\n",
       "      <td>9551.000000</td>\n",
       "      <td>9551.000000</td>\n",
       "    </tr>\n",
       "    <tr>\n",
       "      <th>mean</th>\n",
       "      <td>9.051128e+06</td>\n",
       "      <td>18.365616</td>\n",
       "      <td>1.804837</td>\n",
       "      <td>156.909748</td>\n",
       "      <td>1199.210763</td>\n",
       "      <td>2.891268</td>\n",
       "    </tr>\n",
       "    <tr>\n",
       "      <th>std</th>\n",
       "      <td>8.791521e+06</td>\n",
       "      <td>56.750546</td>\n",
       "      <td>0.905609</td>\n",
       "      <td>430.169145</td>\n",
       "      <td>16121.183073</td>\n",
       "      <td>1.128845</td>\n",
       "    </tr>\n",
       "    <tr>\n",
       "      <th>min</th>\n",
       "      <td>5.300000e+01</td>\n",
       "      <td>1.000000</td>\n",
       "      <td>1.000000</td>\n",
       "      <td>0.000000</td>\n",
       "      <td>0.000000</td>\n",
       "      <td>1.000000</td>\n",
       "    </tr>\n",
       "    <tr>\n",
       "      <th>25%</th>\n",
       "      <td>3.019625e+05</td>\n",
       "      <td>1.000000</td>\n",
       "      <td>1.000000</td>\n",
       "      <td>5.000000</td>\n",
       "      <td>250.000000</td>\n",
       "      <td>2.500000</td>\n",
       "    </tr>\n",
       "    <tr>\n",
       "      <th>50%</th>\n",
       "      <td>6.004089e+06</td>\n",
       "      <td>1.000000</td>\n",
       "      <td>2.000000</td>\n",
       "      <td>31.000000</td>\n",
       "      <td>400.000000</td>\n",
       "      <td>3.200000</td>\n",
       "    </tr>\n",
       "    <tr>\n",
       "      <th>75%</th>\n",
       "      <td>1.835229e+07</td>\n",
       "      <td>1.000000</td>\n",
       "      <td>2.000000</td>\n",
       "      <td>131.000000</td>\n",
       "      <td>700.000000</td>\n",
       "      <td>3.700000</td>\n",
       "    </tr>\n",
       "    <tr>\n",
       "      <th>max</th>\n",
       "      <td>1.850065e+07</td>\n",
       "      <td>216.000000</td>\n",
       "      <td>4.000000</td>\n",
       "      <td>10934.000000</td>\n",
       "      <td>800000.000000</td>\n",
       "      <td>4.900000</td>\n",
       "    </tr>\n",
       "  </tbody>\n",
       "</table>\n",
       "</div>"
      ],
      "text/plain": [
       "       RestaurantID  CountryCode  Price_range         Votes  \\\n",
       "count  9.551000e+03  9551.000000  9551.000000   9551.000000   \n",
       "mean   9.051128e+06    18.365616     1.804837    156.909748   \n",
       "std    8.791521e+06    56.750546     0.905609    430.169145   \n",
       "min    5.300000e+01     1.000000     1.000000      0.000000   \n",
       "25%    3.019625e+05     1.000000     1.000000      5.000000   \n",
       "50%    6.004089e+06     1.000000     2.000000     31.000000   \n",
       "75%    1.835229e+07     1.000000     2.000000    131.000000   \n",
       "max    1.850065e+07   216.000000     4.000000  10934.000000   \n",
       "\n",
       "       Average_Cost_for_two       Rating  \n",
       "count           9551.000000  9551.000000  \n",
       "mean            1199.210763     2.891268  \n",
       "std            16121.183073     1.128845  \n",
       "min                0.000000     1.000000  \n",
       "25%              250.000000     2.500000  \n",
       "50%              400.000000     3.200000  \n",
       "75%              700.000000     3.700000  \n",
       "max           800000.000000     4.900000  "
      ]
     },
     "execution_count": 15,
     "metadata": {},
     "output_type": "execute_result"
    }
   ],
   "source": [
    "zomato_dataset.describe()"
   ]
  },
  {
   "cell_type": "markdown",
   "id": "130efcc0",
   "metadata": {},
   "source": [
    "# Merge both DataFrame Via CountryCode column"
   ]
  },
  {
   "cell_type": "code",
   "execution_count": 16,
   "id": "389e4739",
   "metadata": {},
   "outputs": [],
   "source": [
    "new_df=pd.merge(zomato_dataset,country_code1,on='CountryCode')"
   ]
  },
  {
   "cell_type": "code",
   "execution_count": 17,
   "id": "3adf1c37",
   "metadata": {},
   "outputs": [
    {
     "data": {
      "text/plain": [
       "(9551, 18)"
      ]
     },
     "execution_count": 17,
     "metadata": {},
     "output_type": "execute_result"
    }
   ],
   "source": [
    "new_df.shape"
   ]
  },
  {
   "cell_type": "code",
   "execution_count": 18,
   "id": "058e0fc6",
   "metadata": {},
   "outputs": [
    {
     "data": {
      "text/html": [
       "<div>\n",
       "<style scoped>\n",
       "    .dataframe tbody tr th:only-of-type {\n",
       "        vertical-align: middle;\n",
       "    }\n",
       "\n",
       "    .dataframe tbody tr th {\n",
       "        vertical-align: top;\n",
       "    }\n",
       "\n",
       "    .dataframe thead th {\n",
       "        text-align: right;\n",
       "    }\n",
       "</style>\n",
       "<table border=\"1\" class=\"dataframe\">\n",
       "  <thead>\n",
       "    <tr style=\"text-align: right;\">\n",
       "      <th></th>\n",
       "      <th>RestaurantID</th>\n",
       "      <th>RestaurantName</th>\n",
       "      <th>CountryCode</th>\n",
       "      <th>City</th>\n",
       "      <th>Address</th>\n",
       "      <th>Locality</th>\n",
       "      <th>LocalityVerbose</th>\n",
       "      <th>Cuisines</th>\n",
       "      <th>Currency</th>\n",
       "      <th>Has_Table_booking</th>\n",
       "      <th>Has_Online_delivery</th>\n",
       "      <th>Is_delivering_now</th>\n",
       "      <th>Switch_to_order_menu</th>\n",
       "      <th>Price_range</th>\n",
       "      <th>Votes</th>\n",
       "      <th>Average_Cost_for_two</th>\n",
       "      <th>Rating</th>\n",
       "      <th>Country</th>\n",
       "    </tr>\n",
       "  </thead>\n",
       "  <tbody>\n",
       "    <tr>\n",
       "      <th>0</th>\n",
       "      <td>6317637</td>\n",
       "      <td>Le Petit Souffle</td>\n",
       "      <td>162</td>\n",
       "      <td>Makati City</td>\n",
       "      <td>Third Floor| Century City Mall| Kalayaan Avenu...</td>\n",
       "      <td>Century City Mall| Poblacion| Makati City</td>\n",
       "      <td>Century City Mall| Poblacion| Makati City| Mak...</td>\n",
       "      <td>French| Japanese| Desserts</td>\n",
       "      <td>Botswana Pula(P)</td>\n",
       "      <td>Yes</td>\n",
       "      <td>No</td>\n",
       "      <td>No</td>\n",
       "      <td>No</td>\n",
       "      <td>3</td>\n",
       "      <td>314</td>\n",
       "      <td>1100</td>\n",
       "      <td>4.8</td>\n",
       "      <td>Phillipines</td>\n",
       "    </tr>\n",
       "    <tr>\n",
       "      <th>1</th>\n",
       "      <td>6304287</td>\n",
       "      <td>Izakaya Kikufuji</td>\n",
       "      <td>162</td>\n",
       "      <td>Makati City</td>\n",
       "      <td>Little Tokyo| 2277 Chino Roces Avenue| Legaspi...</td>\n",
       "      <td>Little Tokyo| Legaspi Village| Makati City</td>\n",
       "      <td>Little Tokyo| Legaspi Village| Makati City| Ma...</td>\n",
       "      <td>Japanese</td>\n",
       "      <td>Botswana Pula(P)</td>\n",
       "      <td>Yes</td>\n",
       "      <td>No</td>\n",
       "      <td>No</td>\n",
       "      <td>No</td>\n",
       "      <td>3</td>\n",
       "      <td>591</td>\n",
       "      <td>1200</td>\n",
       "      <td>4.5</td>\n",
       "      <td>Phillipines</td>\n",
       "    </tr>\n",
       "    <tr>\n",
       "      <th>2</th>\n",
       "      <td>6300002</td>\n",
       "      <td>Heat - Edsa Shangri-La</td>\n",
       "      <td>162</td>\n",
       "      <td>Mandaluyong City</td>\n",
       "      <td>Edsa Shangri-La| 1 Garden Way| Ortigas| Mandal...</td>\n",
       "      <td>Edsa Shangri-La| Ortigas| Mandaluyong City</td>\n",
       "      <td>Edsa Shangri-La| Ortigas| Mandaluyong City| Ma...</td>\n",
       "      <td>Seafood| Asian| Filipino| Indian</td>\n",
       "      <td>Botswana Pula(P)</td>\n",
       "      <td>Yes</td>\n",
       "      <td>No</td>\n",
       "      <td>No</td>\n",
       "      <td>No</td>\n",
       "      <td>4</td>\n",
       "      <td>270</td>\n",
       "      <td>4000</td>\n",
       "      <td>4.4</td>\n",
       "      <td>Phillipines</td>\n",
       "    </tr>\n",
       "    <tr>\n",
       "      <th>3</th>\n",
       "      <td>6318506</td>\n",
       "      <td>Ooma</td>\n",
       "      <td>162</td>\n",
       "      <td>Mandaluyong City</td>\n",
       "      <td>Third Floor| Mega Fashion Hall| SM Megamall| O...</td>\n",
       "      <td>SM Megamall| Ortigas| Mandaluyong City</td>\n",
       "      <td>SM Megamall| Ortigas| Mandaluyong City| Mandal...</td>\n",
       "      <td>Japanese| Sushi</td>\n",
       "      <td>Botswana Pula(P)</td>\n",
       "      <td>No</td>\n",
       "      <td>No</td>\n",
       "      <td>No</td>\n",
       "      <td>No</td>\n",
       "      <td>4</td>\n",
       "      <td>365</td>\n",
       "      <td>1500</td>\n",
       "      <td>4.9</td>\n",
       "      <td>Phillipines</td>\n",
       "    </tr>\n",
       "    <tr>\n",
       "      <th>4</th>\n",
       "      <td>6314302</td>\n",
       "      <td>Sambo Kojin</td>\n",
       "      <td>162</td>\n",
       "      <td>Mandaluyong City</td>\n",
       "      <td>Third Floor| Mega Atrium| SM Megamall| Ortigas...</td>\n",
       "      <td>SM Megamall| Ortigas| Mandaluyong City</td>\n",
       "      <td>SM Megamall| Ortigas| Mandaluyong City| Mandal...</td>\n",
       "      <td>Japanese| Korean</td>\n",
       "      <td>Botswana Pula(P)</td>\n",
       "      <td>Yes</td>\n",
       "      <td>No</td>\n",
       "      <td>No</td>\n",
       "      <td>No</td>\n",
       "      <td>4</td>\n",
       "      <td>229</td>\n",
       "      <td>1500</td>\n",
       "      <td>4.8</td>\n",
       "      <td>Phillipines</td>\n",
       "    </tr>\n",
       "  </tbody>\n",
       "</table>\n",
       "</div>"
      ],
      "text/plain": [
       "   RestaurantID          RestaurantName  CountryCode              City  \\\n",
       "0       6317637        Le Petit Souffle          162       Makati City   \n",
       "1       6304287        Izakaya Kikufuji          162       Makati City   \n",
       "2       6300002  Heat - Edsa Shangri-La          162  Mandaluyong City   \n",
       "3       6318506                    Ooma          162  Mandaluyong City   \n",
       "4       6314302             Sambo Kojin          162  Mandaluyong City   \n",
       "\n",
       "                                             Address  \\\n",
       "0  Third Floor| Century City Mall| Kalayaan Avenu...   \n",
       "1  Little Tokyo| 2277 Chino Roces Avenue| Legaspi...   \n",
       "2  Edsa Shangri-La| 1 Garden Way| Ortigas| Mandal...   \n",
       "3  Third Floor| Mega Fashion Hall| SM Megamall| O...   \n",
       "4  Third Floor| Mega Atrium| SM Megamall| Ortigas...   \n",
       "\n",
       "                                     Locality  \\\n",
       "0   Century City Mall| Poblacion| Makati City   \n",
       "1  Little Tokyo| Legaspi Village| Makati City   \n",
       "2  Edsa Shangri-La| Ortigas| Mandaluyong City   \n",
       "3      SM Megamall| Ortigas| Mandaluyong City   \n",
       "4      SM Megamall| Ortigas| Mandaluyong City   \n",
       "\n",
       "                                     LocalityVerbose  \\\n",
       "0  Century City Mall| Poblacion| Makati City| Mak...   \n",
       "1  Little Tokyo| Legaspi Village| Makati City| Ma...   \n",
       "2  Edsa Shangri-La| Ortigas| Mandaluyong City| Ma...   \n",
       "3  SM Megamall| Ortigas| Mandaluyong City| Mandal...   \n",
       "4  SM Megamall| Ortigas| Mandaluyong City| Mandal...   \n",
       "\n",
       "                           Cuisines          Currency Has_Table_booking  \\\n",
       "0        French| Japanese| Desserts  Botswana Pula(P)               Yes   \n",
       "1                          Japanese  Botswana Pula(P)               Yes   \n",
       "2  Seafood| Asian| Filipino| Indian  Botswana Pula(P)               Yes   \n",
       "3                   Japanese| Sushi  Botswana Pula(P)                No   \n",
       "4                  Japanese| Korean  Botswana Pula(P)               Yes   \n",
       "\n",
       "  Has_Online_delivery Is_delivering_now Switch_to_order_menu  Price_range  \\\n",
       "0                  No                No                   No            3   \n",
       "1                  No                No                   No            3   \n",
       "2                  No                No                   No            4   \n",
       "3                  No                No                   No            4   \n",
       "4                  No                No                   No            4   \n",
       "\n",
       "   Votes  Average_Cost_for_two  Rating      Country  \n",
       "0    314                  1100     4.8  Phillipines  \n",
       "1    591                  1200     4.5  Phillipines  \n",
       "2    270                  4000     4.4  Phillipines  \n",
       "3    365                  1500     4.9  Phillipines  \n",
       "4    229                  1500     4.8  Phillipines  "
      ]
     },
     "execution_count": 18,
     "metadata": {},
     "output_type": "execute_result"
    }
   ],
   "source": [
    "new_df.head()"
   ]
  },
  {
   "cell_type": "code",
   "execution_count": 19,
   "id": "b0688b45",
   "metadata": {},
   "outputs": [
    {
     "data": {
      "text/plain": [
       "Index(['RestaurantID', 'RestaurantName', 'CountryCode', 'City', 'Address',\n",
       "       'Locality', 'LocalityVerbose', 'Cuisines', 'Currency',\n",
       "       'Has_Table_booking', 'Has_Online_delivery', 'Is_delivering_now',\n",
       "       'Switch_to_order_menu', 'Price_range', 'Votes', 'Average_Cost_for_two',\n",
       "       'Rating', 'Country'],\n",
       "      dtype='object')"
      ]
     },
     "execution_count": 19,
     "metadata": {},
     "output_type": "execute_result"
    }
   ],
   "source": [
    "new_df.columns"
   ]
  },
  {
   "cell_type": "code",
   "execution_count": 20,
   "id": "8df2c6fd",
   "metadata": {},
   "outputs": [
    {
     "data": {
      "text/plain": [
       "India             8652\n",
       "United States      434\n",
       "United Kingdom      80\n",
       "Brazil              60\n",
       "UAE                 60\n",
       "South Africa        60\n",
       "New Zealand         40\n",
       "Turkey              34\n",
       "Australia           24\n",
       "Phillipines         22\n",
       "Indonesia           21\n",
       "Singapore           20\n",
       "Qatar               20\n",
       "Sri Lanka           20\n",
       "Canada               4\n",
       "Name: Country, dtype: int64"
      ]
     },
     "execution_count": 20,
     "metadata": {},
     "output_type": "execute_result"
    }
   ],
   "source": [
    "new_df.Country.value_counts()"
   ]
  },
  {
   "cell_type": "code",
   "execution_count": 21,
   "id": "51728702",
   "metadata": {},
   "outputs": [],
   "source": [
    "country_names = new_df.Country.value_counts().index.tolist()"
   ]
  },
  {
   "cell_type": "code",
   "execution_count": 22,
   "id": "3cb2ff1b",
   "metadata": {},
   "outputs": [
    {
     "data": {
      "text/plain": [
       "['India',\n",
       " 'United States',\n",
       " 'United Kingdom',\n",
       " 'Brazil',\n",
       " 'UAE',\n",
       " 'South Africa',\n",
       " 'New Zealand',\n",
       " 'Turkey',\n",
       " 'Australia',\n",
       " 'Phillipines',\n",
       " 'Indonesia',\n",
       " 'Singapore',\n",
       " 'Qatar',\n",
       " 'Sri Lanka',\n",
       " 'Canada']"
      ]
     },
     "execution_count": 22,
     "metadata": {},
     "output_type": "execute_result"
    }
   ],
   "source": [
    "country_names"
   ]
  },
  {
   "cell_type": "code",
   "execution_count": 23,
   "id": "b35dff73",
   "metadata": {},
   "outputs": [],
   "source": [
    "top_5_country=country_names[0:5]"
   ]
  },
  {
   "cell_type": "code",
   "execution_count": 24,
   "id": "6ec6a6c2",
   "metadata": {},
   "outputs": [
    {
     "data": {
      "text/plain": [
       "['India', 'United States', 'United Kingdom', 'Brazil', 'UAE']"
      ]
     },
     "execution_count": 24,
     "metadata": {},
     "output_type": "execute_result"
    }
   ],
   "source": [
    "top_5_country"
   ]
  },
  {
   "cell_type": "code",
   "execution_count": 25,
   "id": "cd85d6e8",
   "metadata": {},
   "outputs": [],
   "source": [
    "country_val = new_df.Country.value_counts().values"
   ]
  },
  {
   "cell_type": "code",
   "execution_count": 26,
   "id": "459405d3",
   "metadata": {},
   "outputs": [],
   "source": [
    "top_5_val=country_val[0:5]"
   ]
  },
  {
   "cell_type": "markdown",
   "id": "ef80228f",
   "metadata": {},
   "source": [
    "Maximum Amount of transactions in zomato are made from india"
   ]
  },
  {
   "cell_type": "code",
   "execution_count": 27,
   "id": "6972472a",
   "metadata": {},
   "outputs": [],
   "source": [
    "import matplotlib.pyplot as plt"
   ]
  },
  {
   "cell_type": "code",
   "execution_count": 28,
   "id": "11125ed2",
   "metadata": {},
   "outputs": [
    {
     "data": {
      "image/png": "[encoded data removed]",
      "text/plain": [
       "<Figure size 640x480 with 1 Axes>"
      ]
     },
     "metadata": {},
     "output_type": "display_data"
    }
   ],
   "source": [
    "plt.pie(top_5_val[0:3], labels=top_5_country[0:3], autopct='%0.2f%%')\n",
    "plt.show()\n"
   ]
  },
  {
   "cell_type": "code",
   "execution_count": 29,
   "id": "7e3624dc",
   "metadata": {},
   "outputs": [
    {
     "data": {
      "image/png": "[encoded data removed]",
      "text/plain": [
       "<Figure size 640x480 with 1 Axes>"
      ]
     },
     "metadata": {},
     "output_type": "display_data"
    }
   ],
   "source": [
    "plt.bar(top_5_country[0:3],top_5_val[0:3],color='red',width=0.4,label='Country')\n",
    "plt.show()"
   ]
  },
  {
   "cell_type": "markdown",
   "id": "b6134bd9",
   "metadata": {},
   "source": [
    "# Obsrevation:\n",
    "Top First Country is INDIA Second is USA and third is UK"
   ]
  },
  {
   "cell_type": "code",
   "execution_count": 30,
   "id": "74dc9a2e",
   "metadata": {},
   "outputs": [
    {
     "data": {
      "text/plain": [
       "Index(['RestaurantID', 'RestaurantName', 'CountryCode', 'City', 'Address',\n",
       "       'Locality', 'LocalityVerbose', 'Cuisines', 'Currency',\n",
       "       'Has_Table_booking', 'Has_Online_delivery', 'Is_delivering_now',\n",
       "       'Switch_to_order_menu', 'Price_range', 'Votes', 'Average_Cost_for_two',\n",
       "       'Rating', 'Country'],\n",
       "      dtype='object')"
      ]
     },
     "execution_count": 30,
     "metadata": {},
     "output_type": "execute_result"
    }
   ],
   "source": [
    "new_df.columns"
   ]
  },
  {
   "cell_type": "code",
   "execution_count": 31,
   "id": "91863227",
   "metadata": {
    "scrolled": true
   },
   "outputs": [
    {
     "data": {
      "text/plain": [
       "New Delhi       5473\n",
       "Gurgaon         1118\n",
       "Noida           1080\n",
       "Faridabad        251\n",
       "Ghaziabad         25\n",
       "                ... \n",
       "Huskisson          1\n",
       "Panchkula          1\n",
       "Forrest            1\n",
       "Flaxton            1\n",
       "Chatham-Kent       1\n",
       "Name: City, Length: 141, dtype: int64"
      ]
     },
     "execution_count": 31,
     "metadata": {},
     "output_type": "execute_result"
    }
   ],
   "source": [
    "new_df.City.value_counts()"
   ]
  },
  {
   "cell_type": "code",
   "execution_count": 32,
   "id": "954580f8",
   "metadata": {},
   "outputs": [],
   "source": [
    "indian_cities=new_df[new_df['Country']=='India']"
   ]
  },
  {
   "cell_type": "code",
   "execution_count": 33,
   "id": "4b428ecd",
   "metadata": {},
   "outputs": [
    {
     "data": {
      "text/plain": [
       "New Delhi       5473\n",
       "Gurgaon         1118\n",
       "Noida           1080\n",
       "Faridabad        251\n",
       "Ghaziabad         25\n",
       "Ahmedabad         21\n",
       "Guwahati          21\n",
       "Lucknow           21\n",
       "Bhubaneshwar      21\n",
       "Amritsar          21\n",
       "Pune              20\n",
       "Puducherry        20\n",
       "Patna             20\n",
       "Ludhiana          20\n",
       "Ranchi            20\n",
       "Surat             20\n",
       "Vadodara          20\n",
       "Nashik            20\n",
       "Nagpur            20\n",
       "Mysore            20\n",
       "Mumbai            20\n",
       "Varanasi          20\n",
       "Mangalore         20\n",
       "Agra              20\n",
       "Kochi             20\n",
       "Kolkata           20\n",
       "Dehradun          20\n",
       "Allahabad         20\n",
       "Aurangabad        20\n",
       "Bangalore         20\n",
       "Bhopal            20\n",
       "Chennai           20\n",
       "Coimbatore        20\n",
       "Goa               20\n",
       "Indore            20\n",
       "Jaipur            20\n",
       "Kanpur            20\n",
       "Vizag             20\n",
       "Chandigarh        18\n",
       "Hyderabad         18\n",
       "Secunderabad       2\n",
       "Panchkula          1\n",
       "Mohali             1\n",
       "Name: City, dtype: int64"
      ]
     },
     "execution_count": 33,
     "metadata": {},
     "output_type": "execute_result"
    }
   ],
   "source": [
    "indian_cities.City.value_counts()"
   ]
  },
  {
   "cell_type": "code",
   "execution_count": 34,
   "id": "1bde1693",
   "metadata": {},
   "outputs": [],
   "source": [
    "indian_city_name=indian_cities.City.value_counts().index.tolist()"
   ]
  },
  {
   "cell_type": "code",
   "execution_count": 35,
   "id": "679b6adc",
   "metadata": {},
   "outputs": [
    {
     "data": {
      "text/plain": [
       "['New Delhi',\n",
       " 'Gurgaon',\n",
       " 'Noida',\n",
       " 'Faridabad',\n",
       " 'Ghaziabad',\n",
       " 'Ahmedabad',\n",
       " 'Guwahati',\n",
       " 'Lucknow',\n",
       " 'Bhubaneshwar',\n",
       " 'Amritsar',\n",
       " 'Pune',\n",
       " 'Puducherry',\n",
       " 'Patna',\n",
       " 'Ludhiana',\n",
       " 'Ranchi',\n",
       " 'Surat',\n",
       " 'Vadodara',\n",
       " 'Nashik',\n",
       " 'Nagpur',\n",
       " 'Mysore',\n",
       " 'Mumbai',\n",
       " 'Varanasi',\n",
       " 'Mangalore',\n",
       " 'Agra',\n",
       " 'Kochi',\n",
       " 'Kolkata',\n",
       " 'Dehradun',\n",
       " 'Allahabad',\n",
       " 'Aurangabad',\n",
       " 'Bangalore',\n",
       " 'Bhopal',\n",
       " 'Chennai',\n",
       " 'Coimbatore',\n",
       " 'Goa',\n",
       " 'Indore',\n",
       " 'Jaipur',\n",
       " 'Kanpur',\n",
       " 'Vizag',\n",
       " 'Chandigarh',\n",
       " 'Hyderabad',\n",
       " 'Secunderabad',\n",
       " 'Panchkula',\n",
       " 'Mohali']"
      ]
     },
     "execution_count": 35,
     "metadata": {},
     "output_type": "execute_result"
    }
   ],
   "source": [
    "indian_city_name"
   ]
  },
  {
   "cell_type": "code",
   "execution_count": 36,
   "id": "a86d5455",
   "metadata": {},
   "outputs": [],
   "source": [
    "indian_city_val = indian_cities.City.value_counts().values"
   ]
  },
  {
   "cell_type": "code",
   "execution_count": 37,
   "id": "b06926bc",
   "metadata": {},
   "outputs": [
    {
     "data": {
      "text/plain": [
       "array([5473, 1118, 1080,  251,   25,   21,   21,   21,   21,   21,   20,\n",
       "         20,   20,   20,   20,   20,   20,   20,   20,   20,   20,   20,\n",
       "         20,   20,   20,   20,   20,   20,   20,   20,   20,   20,   20,\n",
       "         20,   20,   20,   20,   20,   18,   18,    2,    1,    1],\n",
       "      dtype=int64)"
      ]
     },
     "execution_count": 37,
     "metadata": {},
     "output_type": "execute_result"
    }
   ],
   "source": [
    "indian_city_val"
   ]
  },
  {
   "cell_type": "code",
   "execution_count": 38,
   "id": "274267d3",
   "metadata": {},
   "outputs": [
    {
     "data": {
      "image/png": "[encoded data removed]",
      "text/plain": [
       "<Figure size 640x480 with 1 Axes>"
      ]
     },
     "metadata": {},
     "output_type": "display_data"
    }
   ],
   "source": [
    "plt.pie(indian_city_val[0:5], labels=indian_city_name[0:5], autopct='%0.2f%%')\n",
    "plt.show()"
   ]
  },
  {
   "cell_type": "code",
   "execution_count": 39,
   "id": "fb046c59",
   "metadata": {},
   "outputs": [
    {
     "data": {
      "image/png": "[encoded data removed]",
      "text/plain": [
       "<Figure size 640x480 with 1 Axes>"
      ]
     },
     "metadata": {},
     "output_type": "display_data"
    }
   ],
   "source": [
    "plt.bar(indian_city_name[0:5],indian_city_val[0:5],color='red',width=0.4,label='City')\n",
    "plt.xlabel(\"City\")\n",
    "plt.ylabel(\"No of cities\")\n",
    "plt.show()"
   ]
  },
  {
   "cell_type": "markdown",
   "id": "348de13f",
   "metadata": {},
   "source": [
    "Most Delivery made in India from NewDelhi then Gurgaon and Noida"
   ]
  },
  {
   "cell_type": "code",
   "execution_count": 40,
   "id": "5834527a",
   "metadata": {},
   "outputs": [
    {
     "data": {
      "text/html": [
       "<div>\n",
       "<style scoped>\n",
       "    .dataframe tbody tr th:only-of-type {\n",
       "        vertical-align: middle;\n",
       "    }\n",
       "\n",
       "    .dataframe tbody tr th {\n",
       "        vertical-align: top;\n",
       "    }\n",
       "\n",
       "    .dataframe thead th {\n",
       "        text-align: right;\n",
       "    }\n",
       "</style>\n",
       "<table border=\"1\" class=\"dataframe\">\n",
       "  <thead>\n",
       "    <tr style=\"text-align: right;\">\n",
       "      <th></th>\n",
       "      <th>RestaurantID</th>\n",
       "      <th>RestaurantName</th>\n",
       "      <th>CountryCode</th>\n",
       "      <th>City</th>\n",
       "      <th>Address</th>\n",
       "      <th>Locality</th>\n",
       "      <th>LocalityVerbose</th>\n",
       "      <th>Cuisines</th>\n",
       "      <th>Currency</th>\n",
       "      <th>Has_Table_booking</th>\n",
       "      <th>Has_Online_delivery</th>\n",
       "      <th>Is_delivering_now</th>\n",
       "      <th>Switch_to_order_menu</th>\n",
       "      <th>Price_range</th>\n",
       "      <th>Votes</th>\n",
       "      <th>Average_Cost_for_two</th>\n",
       "      <th>Rating</th>\n",
       "      <th>Country</th>\n",
       "    </tr>\n",
       "  </thead>\n",
       "  <tbody>\n",
       "    <tr>\n",
       "      <th>0</th>\n",
       "      <td>6317637</td>\n",
       "      <td>Le Petit Souffle</td>\n",
       "      <td>162</td>\n",
       "      <td>Makati City</td>\n",
       "      <td>Third Floor| Century City Mall| Kalayaan Avenu...</td>\n",
       "      <td>Century City Mall| Poblacion| Makati City</td>\n",
       "      <td>Century City Mall| Poblacion| Makati City| Mak...</td>\n",
       "      <td>French| Japanese| Desserts</td>\n",
       "      <td>Botswana Pula(P)</td>\n",
       "      <td>Yes</td>\n",
       "      <td>No</td>\n",
       "      <td>No</td>\n",
       "      <td>No</td>\n",
       "      <td>3</td>\n",
       "      <td>314</td>\n",
       "      <td>1100</td>\n",
       "      <td>4.8</td>\n",
       "      <td>Phillipines</td>\n",
       "    </tr>\n",
       "    <tr>\n",
       "      <th>1</th>\n",
       "      <td>6304287</td>\n",
       "      <td>Izakaya Kikufuji</td>\n",
       "      <td>162</td>\n",
       "      <td>Makati City</td>\n",
       "      <td>Little Tokyo| 2277 Chino Roces Avenue| Legaspi...</td>\n",
       "      <td>Little Tokyo| Legaspi Village| Makati City</td>\n",
       "      <td>Little Tokyo| Legaspi Village| Makati City| Ma...</td>\n",
       "      <td>Japanese</td>\n",
       "      <td>Botswana Pula(P)</td>\n",
       "      <td>Yes</td>\n",
       "      <td>No</td>\n",
       "      <td>No</td>\n",
       "      <td>No</td>\n",
       "      <td>3</td>\n",
       "      <td>591</td>\n",
       "      <td>1200</td>\n",
       "      <td>4.5</td>\n",
       "      <td>Phillipines</td>\n",
       "    </tr>\n",
       "  </tbody>\n",
       "</table>\n",
       "</div>"
      ],
      "text/plain": [
       "   RestaurantID    RestaurantName  CountryCode         City  \\\n",
       "0       6317637  Le Petit Souffle          162  Makati City   \n",
       "1       6304287  Izakaya Kikufuji          162  Makati City   \n",
       "\n",
       "                                             Address  \\\n",
       "0  Third Floor| Century City Mall| Kalayaan Avenu...   \n",
       "1  Little Tokyo| 2277 Chino Roces Avenue| Legaspi...   \n",
       "\n",
       "                                     Locality  \\\n",
       "0   Century City Mall| Poblacion| Makati City   \n",
       "1  Little Tokyo| Legaspi Village| Makati City   \n",
       "\n",
       "                                     LocalityVerbose  \\\n",
       "0  Century City Mall| Poblacion| Makati City| Mak...   \n",
       "1  Little Tokyo| Legaspi Village| Makati City| Ma...   \n",
       "\n",
       "                     Cuisines          Currency Has_Table_booking  \\\n",
       "0  French| Japanese| Desserts  Botswana Pula(P)               Yes   \n",
       "1                    Japanese  Botswana Pula(P)               Yes   \n",
       "\n",
       "  Has_Online_delivery Is_delivering_now Switch_to_order_menu  Price_range  \\\n",
       "0                  No                No                   No            3   \n",
       "1                  No                No                   No            3   \n",
       "\n",
       "   Votes  Average_Cost_for_two  Rating      Country  \n",
       "0    314                  1100     4.8  Phillipines  \n",
       "1    591                  1200     4.5  Phillipines  "
      ]
     },
     "execution_count": 40,
     "metadata": {},
     "output_type": "execute_result"
    }
   ],
   "source": [
    "new_df.head(2)"
   ]
  },
  {
   "cell_type": "code",
   "execution_count": 41,
   "id": "fe89dc88",
   "metadata": {},
   "outputs": [],
   "source": [
    "new_delhi_restaurant=new_df[new_df['City']=='New Delhi']\n",
    "gurgaon_restaurant=new_df[new_df['City']=='Gurgaon']\n",
    "noida_restaurant=new_df[new_df['City']=='Noida']"
   ]
  },
  {
   "cell_type": "code",
   "execution_count": 42,
   "id": "f2c8322b",
   "metadata": {},
   "outputs": [
    {
     "name": "stdout",
     "output_type": "stream",
     "text": [
      "(1080, 18)\n",
      "(1118, 18)\n"
     ]
    }
   ],
   "source": [
    "new_delhi_restaurant.shape\n",
    "print(noida_restaurant.shape)\n",
    "print(gurgaon_restaurant.shape)"
   ]
  },
  {
   "cell_type": "code",
   "execution_count": 43,
   "id": "ed29ae2b",
   "metadata": {},
   "outputs": [
    {
     "data": {
      "text/plain": [
       "Index(['RestaurantID', 'RestaurantName', 'CountryCode', 'City', 'Address',\n",
       "       'Locality', 'LocalityVerbose', 'Cuisines', 'Currency',\n",
       "       'Has_Table_booking', 'Has_Online_delivery', 'Is_delivering_now',\n",
       "       'Switch_to_order_menu', 'Price_range', 'Votes', 'Average_Cost_for_two',\n",
       "       'Rating', 'Country'],\n",
       "      dtype='object')"
      ]
     },
     "execution_count": 43,
     "metadata": {},
     "output_type": "execute_result"
    }
   ],
   "source": [
    "new_delhi_restaurant.columns"
   ]
  },
  {
   "cell_type": "code",
   "execution_count": 44,
   "id": "caa2bb4b",
   "metadata": {},
   "outputs": [
    {
     "data": {
      "text/plain": [
       "Cafe Coffee Day                          57\n",
       "Domino's Pizza                           55\n",
       "Subway                                   38\n",
       "Green Chick Chop                         37\n",
       "McDonald's                               33\n",
       "                                         ..\n",
       "Pradhan Ji Multi Cuisine Restaurant       1\n",
       "Shiva Coffee & South Indian Fast Food     1\n",
       "The Ice Cafe                              1\n",
       "Trending Eats                             1\n",
       "Zareen's Dastarkhwan                      1\n",
       "Name: RestaurantName, Length: 4295, dtype: int64"
      ]
     },
     "execution_count": 44,
     "metadata": {},
     "output_type": "execute_result"
    }
   ],
   "source": [
    "new_delhi_restaurant['RestaurantName'].value_counts()"
   ]
  },
  {
   "cell_type": "code",
   "execution_count": 45,
   "id": "fd7bbe44",
   "metadata": {},
   "outputs": [],
   "source": [
    "top_restaurant=new_delhi_restaurant[[\"RestaurantName\",\"Rating\",\"Votes\"]].sort_values(by='Rating', ascending=False)"
   ]
  },
  {
   "cell_type": "code",
   "execution_count": 46,
   "id": "bcb2000f",
   "metadata": {},
   "outputs": [
    {
     "data": {
      "text/html": [
       "<div>\n",
       "<style scoped>\n",
       "    .dataframe tbody tr th:only-of-type {\n",
       "        vertical-align: middle;\n",
       "    }\n",
       "\n",
       "    .dataframe tbody tr th {\n",
       "        vertical-align: top;\n",
       "    }\n",
       "\n",
       "    .dataframe thead th {\n",
       "        text-align: right;\n",
       "    }\n",
       "</style>\n",
       "<table border=\"1\" class=\"dataframe\">\n",
       "  <thead>\n",
       "    <tr style=\"text-align: right;\">\n",
       "      <th></th>\n",
       "      <th>RestaurantName</th>\n",
       "      <th>Rating</th>\n",
       "      <th>Votes</th>\n",
       "    </tr>\n",
       "  </thead>\n",
       "  <tbody>\n",
       "    <tr>\n",
       "      <th>3013</th>\n",
       "      <td>Naturals Ice Cream</td>\n",
       "      <td>4.9</td>\n",
       "      <td>2620</td>\n",
       "    </tr>\n",
       "    <tr>\n",
       "      <th>3601</th>\n",
       "      <td>Indian Accent - The Manor</td>\n",
       "      <td>4.9</td>\n",
       "      <td>1934</td>\n",
       "    </tr>\n",
       "    <tr>\n",
       "      <th>4298</th>\n",
       "      <td>Masala Library</td>\n",
       "      <td>4.9</td>\n",
       "      <td>408</td>\n",
       "    </tr>\n",
       "    <tr>\n",
       "      <th>6656</th>\n",
       "      <td>Kopper Kadai</td>\n",
       "      <td>4.8</td>\n",
       "      <td>83</td>\n",
       "    </tr>\n",
       "    <tr>\n",
       "      <th>3012</th>\n",
       "      <td>MOB Brewpub</td>\n",
       "      <td>4.7</td>\n",
       "      <td>52</td>\n",
       "    </tr>\n",
       "    <tr>\n",
       "      <th>...</th>\n",
       "      <td>...</td>\n",
       "      <td>...</td>\n",
       "      <td>...</td>\n",
       "    </tr>\n",
       "    <tr>\n",
       "      <th>5671</th>\n",
       "      <td>Chicken Darwar</td>\n",
       "      <td>1.0</td>\n",
       "      <td>0</td>\n",
       "    </tr>\n",
       "    <tr>\n",
       "      <th>5670</th>\n",
       "      <td>Cheffron Bakery</td>\n",
       "      <td>1.0</td>\n",
       "      <td>2</td>\n",
       "    </tr>\n",
       "    <tr>\n",
       "      <th>5669</th>\n",
       "      <td>Captain Food Factory</td>\n",
       "      <td>1.0</td>\n",
       "      <td>1</td>\n",
       "    </tr>\n",
       "    <tr>\n",
       "      <th>5668</th>\n",
       "      <td>Brown Town Bakers</td>\n",
       "      <td>1.0</td>\n",
       "      <td>1</td>\n",
       "    </tr>\n",
       "    <tr>\n",
       "      <th>8032</th>\n",
       "      <td>Zareen's Dastarkhwan</td>\n",
       "      <td>1.0</td>\n",
       "      <td>1</td>\n",
       "    </tr>\n",
       "  </tbody>\n",
       "</table>\n",
       "<p>5473 rows × 3 columns</p>\n",
       "</div>"
      ],
      "text/plain": [
       "                 RestaurantName  Rating  Votes\n",
       "3013         Naturals Ice Cream     4.9   2620\n",
       "3601  Indian Accent - The Manor     4.9   1934\n",
       "4298             Masala Library     4.9    408\n",
       "6656               Kopper Kadai     4.8     83\n",
       "3012                MOB Brewpub     4.7     52\n",
       "...                         ...     ...    ...\n",
       "5671             Chicken Darwar     1.0      0\n",
       "5670            Cheffron Bakery     1.0      2\n",
       "5669       Captain Food Factory     1.0      1\n",
       "5668          Brown Town Bakers     1.0      1\n",
       "8032       Zareen's Dastarkhwan     1.0      1\n",
       "\n",
       "[5473 rows x 3 columns]"
      ]
     },
     "execution_count": 46,
     "metadata": {},
     "output_type": "execute_result"
    }
   ],
   "source": [
    "top_restaurant"
   ]
  },
  {
   "cell_type": "code",
   "execution_count": 47,
   "id": "f66e2000",
   "metadata": {},
   "outputs": [],
   "source": [
    "new_top_5_in_delhi=top_restaurant[\"RestaurantName\"][0:5].tolist()"
   ]
  },
  {
   "cell_type": "code",
   "execution_count": 48,
   "id": "9a05742d",
   "metadata": {},
   "outputs": [],
   "source": [
    "new_top_5_value_in_delhi=top_restaurant[\"Rating\"][0:5].tolist()"
   ]
  },
  {
   "cell_type": "code",
   "execution_count": 49,
   "id": "01ecc2ee",
   "metadata": {},
   "outputs": [
    {
     "data": {
      "text/plain": [
       "[4.9, 4.9, 4.9, 4.8, 4.7]"
      ]
     },
     "execution_count": 49,
     "metadata": {},
     "output_type": "execute_result"
    }
   ],
   "source": [
    "new_top_5_value_in_delhi"
   ]
  },
  {
   "cell_type": "code",
   "execution_count": 50,
   "id": "e0e7c6b0",
   "metadata": {},
   "outputs": [
    {
     "data": {
      "image/png": "[encoded data removed]",
      "text/plain": [
       "<Figure size 1200x800 with 1 Axes>"
      ]
     },
     "metadata": {},
     "output_type": "display_data"
    }
   ],
   "source": [
    "plt.figure(figsize=(12, 8))\n",
    "plt.bar(new_top_5_in_delhi,new_top_5_value_in_delhi,color='blue',width=0.2)\n",
    "plt.xlabel('Restaurant Name')\n",
    "plt.ylabel('Rating')\n",
    "plt.title('Top 5 Restaurants in New Delhi by Rating')\n",
    "plt.show()"
   ]
  },
  {
   "cell_type": "markdown",
   "id": "42ff0d56",
   "metadata": {},
   "source": [
    "# Observation:\n",
    "Top 5 Restaurant in NEW_DELHI according to its Rating."
   ]
  },
  {
   "cell_type": "code",
   "execution_count": 51,
   "id": "99f3ad95",
   "metadata": {},
   "outputs": [
    {
     "data": {
      "text/plain": [
       "Index(['RestaurantID', 'RestaurantName', 'CountryCode', 'City', 'Address',\n",
       "       'Locality', 'LocalityVerbose', 'Cuisines', 'Currency',\n",
       "       'Has_Table_booking', 'Has_Online_delivery', 'Is_delivering_now',\n",
       "       'Switch_to_order_menu', 'Price_range', 'Votes', 'Average_Cost_for_two',\n",
       "       'Rating', 'Country'],\n",
       "      dtype='object')"
      ]
     },
     "execution_count": 51,
     "metadata": {},
     "output_type": "execute_result"
    }
   ],
   "source": [
    "new_df.columns"
   ]
  },
  {
   "cell_type": "code",
   "execution_count": 52,
   "id": "51667df9",
   "metadata": {},
   "outputs": [],
   "source": [
    "cuisines_in_delhi=new_delhi_restaurant['Cuisines'].value_counts().index.tolist()"
   ]
  },
  {
   "cell_type": "code",
   "execution_count": 53,
   "id": "590b8dda",
   "metadata": {},
   "outputs": [],
   "source": [
    "top_5_cuisines_in_delhi=cuisines_in_delhi[0:5]"
   ]
  },
  {
   "cell_type": "code",
   "execution_count": 54,
   "id": "e1ca7e68",
   "metadata": {},
   "outputs": [
    {
     "data": {
      "text/plain": [
       "['North Indian',\n",
       " 'North Indian| Chinese',\n",
       " 'Fast Food',\n",
       " 'Chinese',\n",
       " 'North Indian| Mughlai']"
      ]
     },
     "execution_count": 54,
     "metadata": {},
     "output_type": "execute_result"
    }
   ],
   "source": [
    "top_5_cuisines_in_delhi"
   ]
  },
  {
   "cell_type": "code",
   "execution_count": 62,
   "id": "15158fda",
   "metadata": {},
   "outputs": [],
   "source": [
    "top_5_cuisines_in_delhi_Val=new_delhi_restaurant['Cuisines'].value_counts().values"
   ]
  },
  {
   "cell_type": "code",
   "execution_count": 63,
   "id": "7f8d869b",
   "metadata": {},
   "outputs": [],
   "source": [
    "top_5_cuisines_in_delhi_Val=top_5_cuisiness_in_delhi_Val[0:5]"
   ]
  },
  {
   "cell_type": "code",
   "execution_count": 64,
   "id": "bcc13209",
   "metadata": {},
   "outputs": [
    {
     "data": {
      "image/png": "[encoded data removed]",
      "text/plain": [
       "<Figure size 1200x800 with 1 Axes>"
      ]
     },
     "metadata": {},
     "output_type": "display_data"
    }
   ],
   "source": [
    "plt.figure(figsize=(12, 8))\n",
    "plt.bar(top_5_cuisines_in_delhi,top_5_cuisines_in_delhi_Val,color='blue',width=0.2)\n",
    "plt.xlabel('Cuisines ')\n",
    "plt.ylabel('No of cusines')\n",
    "plt.title('Top 5 Cusines in New Delhi by its number')\n",
    "plt.show()"
   ]
  },
  {
   "cell_type": "markdown",
   "id": "46aaa632",
   "metadata": {},
   "source": [
    "# Observation:\n",
    "    Top 5 Cuisines in New Delhi"
   ]
  }
 ],
 "metadata": {
  "kernelspec": {
   "display_name": "Python 3 (ipykernel)",
   "language": "python",
   "name": "python3"
  },
  "language_info": {
   "codemirror_mode": {
    "name": "ipython",
    "version": 3
   },
   "file_extension": ".py",
   "mimetype": "text/x-python",
   "name": "python",
   "nbconvert_exporter": "python",
   "pygments_lexer": "ipython3",
   "version": "3.11.3"
  }
 },
 "nbformat": 4,
 "nbformat_minor": 5
}
